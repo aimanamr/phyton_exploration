{
 "cells": [
  {
   "cell_type": "code",
   "execution_count": null,
   "id": "c204418d",
   "metadata": {},
   "outputs": [],
   "source": [
    "#BMI = (weight in KG) / (height in m x height in m)"
   ]
  },
  {
   "cell_type": "code",
   "execution_count": 15,
   "id": "33e71b49",
   "metadata": {},
   "outputs": [
    {
     "name": "stdout",
     "output_type": "stream",
     "text": [
      "Enter your name: Aiman\n",
      "Enter your weight in KG: 80\n",
      "Enter your height in CM: 170\n",
      "27.681660899653977\n"
     ]
    }
   ],
   "source": [
    "Name = input (\"Enter your name: \")\n",
    "\n",
    "weight = int(input (\"Enter your weight in KG: \")) \n",
    "height = int(input (\"Enter your height in CM: \")) \n",
    "BMI = weight / (height/100 * height/100)\n",
    "print (BMI)"
   ]
  },
  {
   "cell_type": "code",
   "execution_count": null,
   "id": "262ecf67",
   "metadata": {},
   "outputs": [],
   "source": []
  },
  {
   "cell_type": "markdown",
   "id": "8fc8c4fa",
   "metadata": {},
   "source": [
    "Underweight: <18.5\n",
    "Normal:\t18.5 - 25\n",
    "Overweight:\t25 - 30\n",
    "Obese:\t30 - 35"
   ]
  },
  {
   "cell_type": "code",
   "execution_count": null,
   "id": "db750a20",
   "metadata": {},
   "outputs": [],
   "source": []
  },
  {
   "cell_type": "code",
   "execution_count": 20,
   "id": "62396314",
   "metadata": {},
   "outputs": [
    {
     "name": "stdout",
     "output_type": "stream",
     "text": [
      "Enter your name: Aiman\n",
      "Enter your weight in KG: 80\n",
      "Enter your height in CM: 170\n",
      "27.681660899653977\n",
      "Aiman, you are overweight.\n"
     ]
    }
   ],
   "source": [
    "Name = input (\"Enter your name: \")\n",
    "\n",
    "weight = int(input (\"Enter your weight in KG: \")) \n",
    "height = int(input (\"Enter your height in CM: \")) \n",
    "BMI = weight / (height/100 * height/100)\n",
    "print (BMI)\n",
    "\n",
    "if BMI > 0:\n",
    "    if (BMI<18.5):\n",
    "        print (Name + ', you are underweight.')\n",
    "    elif (BMI<=24.9):\n",
    "        print (Name + ', you are normal weight. ')\n",
    "    elif (BMI<=30):\n",
    "        print (Name + ', you are overweight.')\n",
    "    elif (BMI<=35):\n",
    "        print (Name + ', you are obese.')\n",
    "    elif (BMI<=40):\n",
    "        print (Name + ', you severely obese.')\n",
    "    else: \n",
    "        print (Name + ', you are morbidly obese.')\n",
    "else:\n",
    "    print ('Enter valid input')\n",
    "        "
   ]
  },
  {
   "cell_type": "code",
   "execution_count": null,
   "id": "1a282658",
   "metadata": {},
   "outputs": [],
   "source": []
  },
  {
   "cell_type": "code",
   "execution_count": null,
   "id": "df471c33",
   "metadata": {},
   "outputs": [],
   "source": []
  },
  {
   "cell_type": "code",
   "execution_count": null,
   "id": "52bc610a",
   "metadata": {},
   "outputs": [],
   "source": []
  },
  {
   "cell_type": "code",
   "execution_count": null,
   "id": "8a9271fd",
   "metadata": {},
   "outputs": [],
   "source": []
  },
  {
   "cell_type": "code",
   "execution_count": null,
   "id": "9879ab5b",
   "metadata": {},
   "outputs": [],
   "source": []
  },
  {
   "cell_type": "code",
   "execution_count": null,
   "id": "c17e7c97",
   "metadata": {},
   "outputs": [],
   "source": []
  },
  {
   "cell_type": "code",
   "execution_count": null,
   "id": "9db18f6d",
   "metadata": {},
   "outputs": [],
   "source": []
  },
  {
   "cell_type": "code",
   "execution_count": null,
   "id": "6642a65b",
   "metadata": {},
   "outputs": [],
   "source": [
    "print ('Hello')"
   ]
  },
  {
   "cell_type": "code",
   "execution_count": null,
   "id": "ff71d02f",
   "metadata": {},
   "outputs": [],
   "source": []
  },
  {
   "cell_type": "code",
   "execution_count": null,
   "id": "e1948291",
   "metadata": {},
   "outputs": [],
   "source": []
  },
  {
   "cell_type": "code",
   "execution_count": null,
   "id": "d5d203e7",
   "metadata": {},
   "outputs": [],
   "source": []
  },
  {
   "cell_type": "code",
   "execution_count": null,
   "id": "7570801f",
   "metadata": {},
   "outputs": [],
   "source": []
  },
  {
   "cell_type": "code",
   "execution_count": null,
   "id": "11485d4c",
   "metadata": {},
   "outputs": [],
   "source": []
  },
  {
   "cell_type": "code",
   "execution_count": null,
   "id": "f5f4235d",
   "metadata": {},
   "outputs": [],
   "source": []
  },
  {
   "cell_type": "code",
   "execution_count": null,
   "id": "63b1c143",
   "metadata": {},
   "outputs": [],
   "source": []
  }
 ],
 "metadata": {
  "kernelspec": {
   "display_name": "Python 3 (ipykernel)",
   "language": "python",
   "name": "python3"
  },
  "language_info": {
   "codemirror_mode": {
    "name": "ipython",
    "version": 3
   },
   "file_extension": ".py",
   "mimetype": "text/x-python",
   "name": "python",
   "nbconvert_exporter": "python",
   "pygments_lexer": "ipython3",
   "version": "3.11.3"
  }
 },
 "nbformat": 4,
 "nbformat_minor": 5
}
